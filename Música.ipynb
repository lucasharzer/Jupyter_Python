{
 "cells": [
  {
   "cell_type": "code",
   "execution_count": null,
   "id": "bafa67bd",
   "metadata": {},
   "outputs": [
    {
     "name": "stdout",
     "output_type": "stream",
     "text": [
      "Música rodando ♫\n"
     ]
    }
   ],
   "source": [
    "from playsound import playsound\n",
    "\n",
    "print('Música rodando ♫')    \n",
    "playsound('musica1.mp3')"
   ]
  },
  {
   "cell_type": "markdown",
   "id": "a8f45ab1",
   "metadata": {},
   "source": [
    "# Para instalar o Playsound\n",
    "\n",
    "- Digte em uma unidade de código:\n",
    "!pip install playsound\n",
    "\n",
    "- Apertar no botão Run"
   ]
  },
  {
   "cell_type": "markdown",
   "id": "8eefca22",
   "metadata": {},
   "source": [
    "# Para rodar a aplicação\n",
    "\n",
    "- Aperte na opção Cell\n",
    "- Aperte Run All"
   ]
  }
 ],
 "metadata": {
  "kernelspec": {
   "display_name": "Python 3",
   "language": "python",
   "name": "python3"
  },
  "language_info": {
   "codemirror_mode": {
    "name": "ipython",
    "version": 3
   },
   "file_extension": ".py",
   "mimetype": "text/x-python",
   "name": "python",
   "nbconvert_exporter": "python",
   "pygments_lexer": "ipython3",
   "version": "3.8.8"
  }
 },
 "nbformat": 4,
 "nbformat_minor": 5
}
